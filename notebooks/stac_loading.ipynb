{
 "cells": [
  {
   "cell_type": "code",
   "execution_count": null,
   "id": "ddba558e",
   "metadata": {},
   "outputs": [],
   "source": [
    "from pystac_client import Client\n",
    "from odc.stac import load, configure_s3_access\n",
    "from odc.geo import BoundingBox"
   ]
  },
  {
   "cell_type": "code",
   "execution_count": null,
   "id": "fbdeb206",
   "metadata": {},
   "outputs": [],
   "source": [
    "catalog = \"http://127.0.0.1:8000/stac\"\n",
    "stac_client = Client.open(catalog)\n",
    "configure_s3_access(cloud_defaults=True, aws_unsigned=True)"
   ]
  },
  {
   "cell_type": "code",
   "execution_count": null,
   "id": "05e9f285",
   "metadata": {},
   "outputs": [],
   "source": [
    "aoi_bbox = BoundingBox(\n",
    "    left=146.90842,\n",
    "    bottom=-43.16313,\n",
    "    right=147.10842,\n",
    "    top=-42.96313,\n",
    "    crs=\"EPSG:4326\"\n",
    ")\n",
    "\n",
    "items = stac_client.search(\n",
    "    collections=[\"ga_s1_nrb_iw_vv_vh_0\"],\n",
    "    datetime=f\"2025-06-18/2025-06-20\",\n",
    "    intersects=aoi_bbox.boundary(),\n",
    ").item_collection()\n",
    "\n",
    "print(f\"Found {len(items)} items\")"
   ]
  },
  {
   "cell_type": "code",
   "execution_count": null,
   "id": "281ff77e",
   "metadata": {},
   "outputs": [],
   "source": [
    "ds = load(\n",
    "    items=items,\n",
    "    intersects=aoi_bbox.boundary(),\n",
    "    crs=\"utm\",\n",
    "    resolution=20,\n",
    "    groupby=\"solar_day\",\n",
    ")"
   ]
  },
  {
   "cell_type": "code",
   "execution_count": null,
   "id": "5924f3f0",
   "metadata": {},
   "outputs": [],
   "source": [
    "ds"
   ]
  }
 ],
 "metadata": {
  "kernelspec": {
   "display_name": "Python 3",
   "language": "python",
   "name": "python3"
  },
  "language_info": {
   "codemirror_mode": {
    "name": "ipython",
    "version": 3
   },
   "file_extension": ".py",
   "mimetype": "text/x-python",
   "name": "python",
   "nbconvert_exporter": "python",
   "pygments_lexer": "ipython3",
   "version": "3.13.7"
  }
 },
 "nbformat": 4,
 "nbformat_minor": 5
}
