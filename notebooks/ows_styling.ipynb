{
 "cells": [
  {
   "cell_type": "code",
   "execution_count": null,
   "id": "c322012a",
   "metadata": {},
   "outputs": [],
   "source": [
    "import datacube\n",
    "from odc.geo import BoundingBox\n",
    "from datacube_ows.styles.api import plot_image_with_style_cfg\n",
    "import numpy as np\n",
    "\n",
    "dc = datacube.Datacube()\n",
    "\n",
    "aoi_bbox = BoundingBox(\n",
    "    left=152.88801,\n",
    "    bottom=-25.44067,\n",
    "    right=152.93169,\n",
    "    top=-25.40686,\n",
    "    crs=\"EPSG:4326\"\n",
    ")\n",
    "\n",
    "ds = dc.load(\n",
    "    product = \"ga_s1_nrb_iw_vv_vh_0\",\n",
    "    geopolygon=aoi_bbox.boundary(),\n",
    "    group_by = 'solar_day',\n",
    "    output_crs = 'EPSG:32755',\n",
    "    resolution = (20, -20),\n",
    ")\n",
    "\n",
    "ds"
   ]
  },
  {
   "cell_type": "code",
   "execution_count": null,
   "id": "998808ac",
   "metadata": {},
   "outputs": [],
   "source": [
    "vv_cfg = {\n",
    "    \"components\": {\n",
    "        \"red\": {\"VV_gamma0\": 1},\n",
    "        \"blue\": {\"VV_gamma0\": 1},\n",
    "        \"green\": {\"VV_gamma0\": 1},\n",
    "    },\n",
    "    \"scale_range\":[0.02, 0.4],\n",
    "}\n",
    "\n",
    "plot_image_with_style_cfg(vv_cfg, ds)"
   ]
  },
  {
   "cell_type": "code",
   "execution_count": null,
   "id": "472871e7",
   "metadata": {},
   "outputs": [],
   "source": [
    "falsecolour_cfg = {\n",
    "    \"additional_bands\": [\"VV_gamma0\", \"VH_gamma0\"],\n",
    "    \"components\": {\n",
    "        \"red\": {\n",
    "            \"VV_gamma0\": 1.0, \n",
    "            \"scale_range\": [0.0, 0.28],\n",
    "        },\n",
    "        \"green\": {\n",
    "            \"VH_gamma0\": 1.0, \n",
    "            \"scale_range\": [0.0, 0.06],\n",
    "        },\n",
    "        \"blue\": {\n",
    "            \"function\": \"datacube_ows.band_utils.band_quotient\",\n",
    "            \"mapped_bands\": True,\n",
    "            \"kwargs\": {\"band1\": \"VH_gamma0\", \"band2\": \"VV_gamma0\", \"scale_from\": [0.0, 0.49]},\n",
    "        }\n",
    "    }\n",
    "}\n",
    "\n",
    "\n",
    "plot_image_with_style_cfg(falsecolour_cfg, ds)"
   ]
  }
 ],
 "metadata": {
  "kernelspec": {
   "display_name": "Python 3",
   "language": "python",
   "name": "python3"
  },
  "language_info": {
   "codemirror_mode": {
    "name": "ipython",
    "version": 3
   },
   "file_extension": ".py",
   "mimetype": "text/x-python",
   "name": "python",
   "nbconvert_exporter": "python",
   "pygments_lexer": "ipython3",
   "version": "3.13.7"
  }
 },
 "nbformat": 4,
 "nbformat_minor": 5
}
