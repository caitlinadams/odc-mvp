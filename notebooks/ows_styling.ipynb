{
 "cells": [
  {
   "cell_type": "code",
   "execution_count": null,
   "id": "c322012a",
   "metadata": {},
   "outputs": [],
   "source": [
    "import datacube\n",
    "from odc.geo import BoundingBox\n",
    "from datacube_ows.styles.api import plot_image_with_style_cfg\n",
    "import numpy as np\n",
    "\n",
    "dc = datacube.Datacube()\n",
    "\n",
    "aoi_bbox = BoundingBox(\n",
    "    left=146.90842,\n",
    "    bottom=-43.16313,\n",
    "    right=147.10842,\n",
    "    top=-42.96313,\n",
    "    crs=\"EPSG:4326\"\n",
    ")\n",
    "\n",
    "ds = dc.load(\n",
    "    product = \"ga_s1_nrb_iw_vv_vh_0\",\n",
    "    geopolygon=aoi_bbox.boundary(),\n",
    "    group_by = 'solar_day',\n",
    "    output_crs = 'EPSG:32755',\n",
    "    resolution = (20, -20),\n",
    ")"
   ]
  },
  {
   "cell_type": "code",
   "execution_count": null,
   "id": "998808ac",
   "metadata": {},
   "outputs": [],
   "source": [
    "vv_cfg = {\n",
    "    \"components\": {\n",
    "        \"red\": {\"VV_gamma0\": 1},\n",
    "        \"blue\": {\"VV_gamma0\": 1},\n",
    "        \"green\": {\"VV_gamma0\": 1},\n",
    "    },\n",
    "    \"scale_range\":[0.02, 0.4],\n",
    "}\n",
    "\n",
    "plot_image_with_style_cfg(vv_cfg, ds)"
   ]
  },
  {
   "cell_type": "code",
   "execution_count": null,
   "id": "e174804e",
   "metadata": {},
   "outputs": [],
   "source": [
    "def db_vv(data):\n",
    "    unscaled = 10 * np.log10(data[\"VV_gamma0\"])\n",
    "    band_min = unscaled.min(skipna=True)\n",
    "    band_max = unscaled.max(skipna=True)\n",
    "    band_range = band_max - band_min\n",
    "\n",
    "    scaled = (unscaled - band_min) / band_range * 255\n",
    "\n",
    "    return scaled\n",
    "\n",
    "vv_db_cfg = {\n",
    "    \"components\": {\n",
    "        \"red\": db_vv,\n",
    "        \"blue\": db_vv,\n",
    "        \"green\": db_vv,\n",
    "    },\n",
    "    \"scale_range\":[-17, -4],\n",
    "}\n",
    "\n",
    "plot_image_with_style_cfg(vv_db_cfg, ds)"
   ]
  }
 ],
 "metadata": {
  "kernelspec": {
   "display_name": "Python 3",
   "language": "python",
   "name": "python3"
  },
  "language_info": {
   "codemirror_mode": {
    "name": "ipython",
    "version": 3
   },
   "file_extension": ".py",
   "mimetype": "text/x-python",
   "name": "python",
   "nbconvert_exporter": "python",
   "pygments_lexer": "ipython3",
   "version": "3.13.7"
  }
 },
 "nbformat": 4,
 "nbformat_minor": 5
}
