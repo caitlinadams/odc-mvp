{
 "cells": [
  {
   "cell_type": "code",
   "execution_count": null,
   "metadata": {},
   "outputs": [],
   "source": [
    "import datacube\n",
    "from odc.geo import BoundingBox"
   ]
  },
  {
   "cell_type": "code",
   "execution_count": null,
   "metadata": {},
   "outputs": [],
   "source": [
    "dc = datacube.Datacube()"
   ]
  },
  {
   "cell_type": "code",
   "execution_count": null,
   "metadata": {},
   "outputs": [],
   "source": [
    "aoi_bbox = BoundingBox(\n",
    "    left=146.90842,\n",
    "    bottom=-43.16313,\n",
    "    right=147.10842,\n",
    "    top=-42.96313,\n",
    "    crs=\"EPSG:4326\"\n",
    ")\n",
    "\n",
    "ds = dc.load(\n",
    "    product = \"ga_s1_nrb_iw_vv_vh_0\",\n",
    "    geopolygon=aoi_bbox.boundary(),\n",
    "    group_by = 'solar_day',\n",
    "    output_crs = 'EPSG:32755',\n",
    "    resolution = (20, -20),\n",
    ")"
   ]
  },
  {
   "cell_type": "code",
   "execution_count": null,
   "metadata": {},
   "outputs": [],
   "source": [
    "ds"
   ]
  }
 ],
 "metadata": {
  "kernelspec": {
   "display_name": "Python 3",
   "language": "python",
   "name": "python3"
  },
  "language_info": {
   "codemirror_mode": {
    "name": "ipython",
    "version": 3
   },
   "file_extension": ".py",
   "mimetype": "text/x-python",
   "name": "python",
   "nbconvert_exporter": "python",
   "pygments_lexer": "ipython3",
   "version": "3.13.7"
  }
 },
 "nbformat": 4,
 "nbformat_minor": 2
}
